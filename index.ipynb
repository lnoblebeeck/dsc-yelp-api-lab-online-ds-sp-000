{
 "cells": [
  {
   "cell_type": "markdown",
   "metadata": {},
   "source": [
    "# Yelp API - Lab\n",
    "\n",
    "\n",
    "## Introduction \n",
    "\n",
    "Now that we've seen how the Yelp API works and some basic Folium visualizations, it's time to put those skills to work in order to create a working map! Taking things a step further, you'll also independently explore how to perform pagination in order to retrieve a full results set from the Yelp API!\n",
    "\n",
    "## Objectives\n",
    "\n",
    "You will be able to: \n",
    "* Create HTTP requests to get data from Yelp API\n",
    "* Parse HTTP responses and perform data analysis on the data returned\n",
    "* Perform pagination to retrieve troves of data!\n",
    "* Create a simple geographical system to view information about selected businesses, at a given location. \n",
    "\n",
    "## Problem Introduction\n",
    "\n",
    "You've now worked with some API calls, but we have yet to see how to retrieve a more complete dataset in a programmatic manner. Returning to the Yelp API, the [documentation](https://www.yelp.com/developers/documentation/v3/business_search) also provides us details regarding the API limits. These often include details about the number of requests a user is allowed to make within a specified time limit and the maximum number of results to be returned. In this case, we are told that any request has a maximum of 50 results per request and defaults to 20. Furthermore, any search will be limited to a total of 1000 results. To retrieve all 1000 of these results, we would have to page through the results piece by piece, retrieving 50 at a time. Processes such as these are often referred to as pagination.\n",
    "\n",
    "In this lab, you will define a search and then paginate over the results to retrieve all of the results. You'll then parse these responses as a DataFrame (for further exploration) and create a map using Folium to visualize the results geographically.\n",
    "\n",
    "## Part I - Make the Initial Request\n",
    "\n",
    "Start by making an initial request to the Yelp API. Your search must include at least 2 parameters: **term** and **location**. For example, you might search for pizza restaurants in NYC. The term and location is up to you but make the request below."
   ]
  },
  {
   "cell_type": "code",
   "execution_count": 1,
   "metadata": {},
   "outputs": [],
   "source": [
    "# Your code here\n",
    "import json\n",
    "\n",
    "def get_api(path):\n",
    "    with open(path) as f:\n",
    "        return json.load(f)"
   ]
  },
  {
   "cell_type": "code",
   "execution_count": 2,
   "metadata": {},
   "outputs": [],
   "source": [
    "import requests"
   ]
  },
  {
   "cell_type": "code",
   "execution_count": 3,
   "metadata": {},
   "outputs": [],
   "source": [
    "key = get_api(\"/Users/Lucas/.secret/API/yelp_api.json\")\n",
    "api_key = key['api_key']"
   ]
  },
  {
   "cell_type": "code",
   "execution_count": 4,
   "metadata": {},
   "outputs": [],
   "source": [
    "term = \"Taco\"\n",
    "location = \"Greenpoint\"\n",
    "SEARCH_LIMIT = 50\n",
    "\n",
    "url = 'https://api.yelp.com/v3/businesses/search'\n",
    "\n",
    "headers = { 'Authorization': 'Bearer {}'.format(api_key),}\n",
    "url_params = {\n",
    "    'term':term.replace(\" \",\"+\"),\n",
    "    'location':location.replace(\" \",\"+\"),\n",
    "    'limit': 50\n",
    "}"
   ]
  },
  {
   "cell_type": "code",
   "execution_count": 5,
   "metadata": {},
   "outputs": [
    {
     "name": "stdout",
     "output_type": "stream",
     "text": [
      "<Response [200]>\n",
      "<class 'str'>\n"
     ]
    }
   ],
   "source": [
    "response = requests.get(url, headers = headers, params = url_params)\n",
    "print(response)\n",
    "print(type(response.text))"
   ]
  },
  {
   "cell_type": "markdown",
   "metadata": {},
   "source": [
    "## Pagination\n",
    "\n",
    "Now that you have an initial response, you can examine the contents of the JSON container. For example, you might start with ```response.json().keys()```. Here, you'll see a key for `'total'`, which tells you the full number of matching results given your query parameters. Write a loop (or ideally a function) which then makes successive API calls using the offset parameter to retrieve all of the results (or 5000 for a particularly large result set) for the original query. As you do this, be mindful of how you store the data. Your final goal will be to reformat the data concerning the businesses themselves into a pandas DataFrame from the json objects.\n",
    "\n",
    "**Note: be mindful of the API rate limits. You can only make 5000 requests per day and are also can make requests too fast. Start prototyping small before running a loop that could be faulty. You can also use time.sleep(n) to add delays. For more details see https://www.yelp.com/developers/documentation/v3/rate_limiting.**"
   ]
  },
  {
   "cell_type": "code",
   "execution_count": 6,
   "metadata": {},
   "outputs": [
    {
     "name": "stdout",
     "output_type": "stream",
     "text": [
      "1000\n"
     ]
    },
    {
     "data": {
      "text/html": [
       "<div>\n",
       "<style scoped>\n",
       "    .dataframe tbody tr th:only-of-type {\n",
       "        vertical-align: middle;\n",
       "    }\n",
       "\n",
       "    .dataframe tbody tr th {\n",
       "        vertical-align: top;\n",
       "    }\n",
       "\n",
       "    .dataframe thead th {\n",
       "        text-align: right;\n",
       "    }\n",
       "</style>\n",
       "<table border=\"1\" class=\"dataframe\">\n",
       "  <thead>\n",
       "    <tr style=\"text-align: right;\">\n",
       "      <th></th>\n",
       "      <th>alias</th>\n",
       "      <th>categories</th>\n",
       "      <th>coordinates</th>\n",
       "      <th>display_phone</th>\n",
       "      <th>distance</th>\n",
       "      <th>id</th>\n",
       "      <th>image_url</th>\n",
       "      <th>is_closed</th>\n",
       "      <th>location</th>\n",
       "      <th>name</th>\n",
       "      <th>phone</th>\n",
       "      <th>price</th>\n",
       "      <th>rating</th>\n",
       "      <th>review_count</th>\n",
       "      <th>transactions</th>\n",
       "      <th>url</th>\n",
       "    </tr>\n",
       "  </thead>\n",
       "  <tbody>\n",
       "    <tr>\n",
       "      <th>0</th>\n",
       "      <td>good-move-brooklyn</td>\n",
       "      <td>[{'alias': 'cocktailbars', 'title': 'Cocktail ...</td>\n",
       "      <td>{'latitude': 40.7253043200226, 'longitude': -7...</td>\n",
       "      <td>(718) 383-6038</td>\n",
       "      <td>432.134325</td>\n",
       "      <td>HrrJ1OdstzLJCC5JQrHWGA</td>\n",
       "      <td>https://s3-media4.fl.yelpcdn.com/bphoto/AGtNMt...</td>\n",
       "      <td>False</td>\n",
       "      <td>{'address1': '167 Nassau Ave', 'address2': '',...</td>\n",
       "      <td>Good Move</td>\n",
       "      <td>+17183836038</td>\n",
       "      <td>$$</td>\n",
       "      <td>4.0</td>\n",
       "      <td>30</td>\n",
       "      <td>[delivery, pickup]</td>\n",
       "      <td>https://www.yelp.com/biz/good-move-brooklyn?ad...</td>\n",
       "    </tr>\n",
       "    <tr>\n",
       "      <th>1</th>\n",
       "      <td>oxomoco-brooklyn-2</td>\n",
       "      <td>[{'alias': 'mexican', 'title': 'Mexican'}]</td>\n",
       "      <td>{'latitude': 40.7299099, 'longitude': -73.95548}</td>\n",
       "      <td>(646) 688-4180</td>\n",
       "      <td>797.751920</td>\n",
       "      <td>vyKBwzRdNX4yiJDIFv37iw</td>\n",
       "      <td>https://s3-media1.fl.yelpcdn.com/bphoto/F2A0uM...</td>\n",
       "      <td>False</td>\n",
       "      <td>{'address1': '128 Greenpoint Ave', 'address2':...</td>\n",
       "      <td>Oxomoco</td>\n",
       "      <td>+16466884180</td>\n",
       "      <td>$$$</td>\n",
       "      <td>4.0</td>\n",
       "      <td>246</td>\n",
       "      <td>[]</td>\n",
       "      <td>https://www.yelp.com/biz/oxomoco-brooklyn-2?ad...</td>\n",
       "    </tr>\n",
       "    <tr>\n",
       "      <th>2</th>\n",
       "      <td>tacovision-new-york</td>\n",
       "      <td>[{'alias': 'tacos', 'title': 'Tacos'}]</td>\n",
       "      <td>{'latitude': 40.7568200311153, 'longitude': -7...</td>\n",
       "      <td>(646) 921-1990</td>\n",
       "      <td>3582.440008</td>\n",
       "      <td>4UxmxAqehEIh7fYrzUEA7A</td>\n",
       "      <td>https://s3-media3.fl.yelpcdn.com/bphoto/gnq7KL...</td>\n",
       "      <td>False</td>\n",
       "      <td>{'address1': '244 E 53rd St', 'address2': '', ...</td>\n",
       "      <td>Tacovision</td>\n",
       "      <td>+16469211990</td>\n",
       "      <td>NaN</td>\n",
       "      <td>4.5</td>\n",
       "      <td>33</td>\n",
       "      <td>[delivery, pickup]</td>\n",
       "      <td>https://www.yelp.com/biz/tacovision-new-york?a...</td>\n",
       "    </tr>\n",
       "    <tr>\n",
       "      <th>3</th>\n",
       "      <td>tacombi-williamsburg-new-york-2</td>\n",
       "      <td>[{'alias': 'mexican', 'title': 'Mexican'}]</td>\n",
       "      <td>{'latitude': 40.71489, 'longitude': -73.95949}</td>\n",
       "      <td>(718) 599-3496</td>\n",
       "      <td>1951.688048</td>\n",
       "      <td>M6XZ8IIOGmBfh79vk79Eqw</td>\n",
       "      <td>https://s3-media2.fl.yelpcdn.com/bphoto/C2ZbqY...</td>\n",
       "      <td>False</td>\n",
       "      <td>{'address1': '242 Metropolitan Ave', 'address2...</td>\n",
       "      <td>Tacombi - Williamsburg</td>\n",
       "      <td>+17185993496</td>\n",
       "      <td>NaN</td>\n",
       "      <td>5.0</td>\n",
       "      <td>6</td>\n",
       "      <td>[]</td>\n",
       "      <td>https://www.yelp.com/biz/tacombi-williamsburg-...</td>\n",
       "    </tr>\n",
       "    <tr>\n",
       "      <th>4</th>\n",
       "      <td>taqueria-la-nortena-brooklyn-8</td>\n",
       "      <td>[{'alias': 'mexican', 'title': 'Mexican'}]</td>\n",
       "      <td>{'latitude': 40.72474, 'longitude': -73.95121}</td>\n",
       "      <td>(718) 349-2626</td>\n",
       "      <td>651.978262</td>\n",
       "      <td>6k6PRNSLnExNes-iGcu1EA</td>\n",
       "      <td>https://s3-media2.fl.yelpcdn.com/bphoto/V9B9lO...</td>\n",
       "      <td>False</td>\n",
       "      <td>{'address1': '668 Manhattan Ave', 'address2': ...</td>\n",
       "      <td>Taqueria La Nortena</td>\n",
       "      <td>+17183492626</td>\n",
       "      <td>$</td>\n",
       "      <td>3.5</td>\n",
       "      <td>115</td>\n",
       "      <td>[delivery, pickup]</td>\n",
       "      <td>https://www.yelp.com/biz/taqueria-la-nortena-b...</td>\n",
       "    </tr>\n",
       "  </tbody>\n",
       "</table>\n",
       "</div>"
      ],
      "text/plain": [
       "                             alias  \\\n",
       "0               good-move-brooklyn   \n",
       "1               oxomoco-brooklyn-2   \n",
       "2              tacovision-new-york   \n",
       "3  tacombi-williamsburg-new-york-2   \n",
       "4   taqueria-la-nortena-brooklyn-8   \n",
       "\n",
       "                                          categories  \\\n",
       "0  [{'alias': 'cocktailbars', 'title': 'Cocktail ...   \n",
       "1         [{'alias': 'mexican', 'title': 'Mexican'}]   \n",
       "2             [{'alias': 'tacos', 'title': 'Tacos'}]   \n",
       "3         [{'alias': 'mexican', 'title': 'Mexican'}]   \n",
       "4         [{'alias': 'mexican', 'title': 'Mexican'}]   \n",
       "\n",
       "                                         coordinates   display_phone  \\\n",
       "0  {'latitude': 40.7253043200226, 'longitude': -7...  (718) 383-6038   \n",
       "1   {'latitude': 40.7299099, 'longitude': -73.95548}  (646) 688-4180   \n",
       "2  {'latitude': 40.7568200311153, 'longitude': -7...  (646) 921-1990   \n",
       "3     {'latitude': 40.71489, 'longitude': -73.95949}  (718) 599-3496   \n",
       "4     {'latitude': 40.72474, 'longitude': -73.95121}  (718) 349-2626   \n",
       "\n",
       "      distance                      id  \\\n",
       "0   432.134325  HrrJ1OdstzLJCC5JQrHWGA   \n",
       "1   797.751920  vyKBwzRdNX4yiJDIFv37iw   \n",
       "2  3582.440008  4UxmxAqehEIh7fYrzUEA7A   \n",
       "3  1951.688048  M6XZ8IIOGmBfh79vk79Eqw   \n",
       "4   651.978262  6k6PRNSLnExNes-iGcu1EA   \n",
       "\n",
       "                                           image_url  is_closed  \\\n",
       "0  https://s3-media4.fl.yelpcdn.com/bphoto/AGtNMt...      False   \n",
       "1  https://s3-media1.fl.yelpcdn.com/bphoto/F2A0uM...      False   \n",
       "2  https://s3-media3.fl.yelpcdn.com/bphoto/gnq7KL...      False   \n",
       "3  https://s3-media2.fl.yelpcdn.com/bphoto/C2ZbqY...      False   \n",
       "4  https://s3-media2.fl.yelpcdn.com/bphoto/V9B9lO...      False   \n",
       "\n",
       "                                            location                    name  \\\n",
       "0  {'address1': '167 Nassau Ave', 'address2': '',...               Good Move   \n",
       "1  {'address1': '128 Greenpoint Ave', 'address2':...                 Oxomoco   \n",
       "2  {'address1': '244 E 53rd St', 'address2': '', ...              Tacovision   \n",
       "3  {'address1': '242 Metropolitan Ave', 'address2...  Tacombi - Williamsburg   \n",
       "4  {'address1': '668 Manhattan Ave', 'address2': ...     Taqueria La Nortena   \n",
       "\n",
       "          phone price  rating  review_count        transactions  \\\n",
       "0  +17183836038    $$     4.0            30  [delivery, pickup]   \n",
       "1  +16466884180   $$$     4.0           246                  []   \n",
       "2  +16469211990   NaN     4.5            33  [delivery, pickup]   \n",
       "3  +17185993496   NaN     5.0             6                  []   \n",
       "4  +17183492626     $     3.5           115  [delivery, pickup]   \n",
       "\n",
       "                                                 url  \n",
       "0  https://www.yelp.com/biz/good-move-brooklyn?ad...  \n",
       "1  https://www.yelp.com/biz/oxomoco-brooklyn-2?ad...  \n",
       "2  https://www.yelp.com/biz/tacovision-new-york?a...  \n",
       "3  https://www.yelp.com/biz/tacombi-williamsburg-...  \n",
       "4  https://www.yelp.com/biz/taqueria-la-nortena-b...  "
      ]
     },
     "execution_count": 6,
     "metadata": {},
     "output_type": "execute_result"
    }
   ],
   "source": [
    "# Your code here; use a function or loop to retrieve all the results from your original request\n",
    "\n",
    "import pandas as pd \n",
    "import time\n",
    "\n",
    "def yelp_request(url_params, api_key):\n",
    "    \n",
    "    url = 'https://api.yelp.com/v3/businesses/search'\n",
    "    headers = { 'Authorization': 'Bearer {}'.format(api_key),}\n",
    "    \n",
    "    response = requests.get(url, headers = headers, params = url_params)\n",
    "    df = pd.DataFrame(response.json()['businesses'])\n",
    "    return df\n",
    "\n",
    "def concat_requests(url_params, api_key):\n",
    "    num = response.json()['total']\n",
    "    count = 0\n",
    "    dfs = []\n",
    "    while count<num and count<1000:\n",
    "        url_params['offset']=count\n",
    "        dfs.append(yelp_request(url_params,api_key))\n",
    "        time.sleep(1)\n",
    "        count += 50\n",
    "    df = pd.concat(dfs, ignore_index = True)\n",
    "    return df\n",
    "\n",
    "df = concat_requests(url_params, api_key)\n",
    "print(len(df))\n",
    "df.head()"
   ]
  },
  {
   "cell_type": "markdown",
   "metadata": {},
   "source": [
    "## Exploratory Analysis\n",
    "\n",
    "Take the restaurants from the previous question and do an initial exploratory analysis. At minimum, this should include looking at the distribution of features such as price, rating and number of reviews as well as the relations between these dimensions."
   ]
  },
  {
   "cell_type": "code",
   "execution_count": 7,
   "metadata": {
    "scrolled": true
   },
   "outputs": [
    {
     "data": {
      "text/html": [
       "<div>\n",
       "<style scoped>\n",
       "    .dataframe tbody tr th:only-of-type {\n",
       "        vertical-align: middle;\n",
       "    }\n",
       "\n",
       "    .dataframe tbody tr th {\n",
       "        vertical-align: top;\n",
       "    }\n",
       "\n",
       "    .dataframe thead th {\n",
       "        text-align: right;\n",
       "    }\n",
       "</style>\n",
       "<table border=\"1\" class=\"dataframe\">\n",
       "  <thead>\n",
       "    <tr style=\"text-align: right;\">\n",
       "      <th></th>\n",
       "      <th>alias</th>\n",
       "      <th>categories</th>\n",
       "      <th>coordinates</th>\n",
       "      <th>display_phone</th>\n",
       "      <th>distance</th>\n",
       "      <th>id</th>\n",
       "      <th>image_url</th>\n",
       "      <th>is_closed</th>\n",
       "      <th>location</th>\n",
       "      <th>name</th>\n",
       "      <th>phone</th>\n",
       "      <th>price</th>\n",
       "      <th>rating</th>\n",
       "      <th>review_count</th>\n",
       "      <th>transactions</th>\n",
       "      <th>url</th>\n",
       "    </tr>\n",
       "  </thead>\n",
       "  <tbody>\n",
       "    <tr>\n",
       "      <th>1</th>\n",
       "      <td>oxomoco-brooklyn-2</td>\n",
       "      <td>[{'alias': 'mexican', 'title': 'Mexican'}]</td>\n",
       "      <td>{'latitude': 40.7299099, 'longitude': -73.95548}</td>\n",
       "      <td>(646) 688-4180</td>\n",
       "      <td>797.75192</td>\n",
       "      <td>vyKBwzRdNX4yiJDIFv37iw</td>\n",
       "      <td>https://s3-media1.fl.yelpcdn.com/bphoto/F2A0uM...</td>\n",
       "      <td>False</td>\n",
       "      <td>{'address1': '128 Greenpoint Ave', 'address2':...</td>\n",
       "      <td>Oxomoco</td>\n",
       "      <td>+16466884180</td>\n",
       "      <td>$$$</td>\n",
       "      <td>4.0</td>\n",
       "      <td>246</td>\n",
       "      <td>[]</td>\n",
       "      <td>https://www.yelp.com/biz/oxomoco-brooklyn-2?ad...</td>\n",
       "    </tr>\n",
       "  </tbody>\n",
       "</table>\n",
       "</div>"
      ],
      "text/plain": [
       "                alias                                  categories  \\\n",
       "1  oxomoco-brooklyn-2  [{'alias': 'mexican', 'title': 'Mexican'}]   \n",
       "\n",
       "                                        coordinates   display_phone  \\\n",
       "1  {'latitude': 40.7299099, 'longitude': -73.95548}  (646) 688-4180   \n",
       "\n",
       "    distance                      id  \\\n",
       "1  797.75192  vyKBwzRdNX4yiJDIFv37iw   \n",
       "\n",
       "                                           image_url  is_closed  \\\n",
       "1  https://s3-media1.fl.yelpcdn.com/bphoto/F2A0uM...      False   \n",
       "\n",
       "                                            location     name         phone  \\\n",
       "1  {'address1': '128 Greenpoint Ave', 'address2':...  Oxomoco  +16466884180   \n",
       "\n",
       "  price  rating  review_count transactions  \\\n",
       "1   $$$     4.0           246           []   \n",
       "\n",
       "                                                 url  \n",
       "1  https://www.yelp.com/biz/oxomoco-brooklyn-2?ad...  "
      ]
     },
     "execution_count": 7,
     "metadata": {},
     "output_type": "execute_result"
    }
   ],
   "source": [
    "df.loc[df['name'] == 'Oxomoco']"
   ]
  },
  {
   "cell_type": "code",
   "execution_count": 8,
   "metadata": {
    "scrolled": false
   },
   "outputs": [
    {
     "data": {
      "text/plain": [
       "0       True\n",
       "1       True\n",
       "2       True\n",
       "3       True\n",
       "4       True\n",
       "5       True\n",
       "6       True\n",
       "7       True\n",
       "8       True\n",
       "9       True\n",
       "10      True\n",
       "11      True\n",
       "12      True\n",
       "13      True\n",
       "14      True\n",
       "15      True\n",
       "16      True\n",
       "17     False\n",
       "18      True\n",
       "19      True\n",
       "20      True\n",
       "21      True\n",
       "22      True\n",
       "23      True\n",
       "24      True\n",
       "25      True\n",
       "26      True\n",
       "27      True\n",
       "28      True\n",
       "29      True\n",
       "       ...  \n",
       "970    False\n",
       "971    False\n",
       "972     True\n",
       "973     True\n",
       "974    False\n",
       "975     True\n",
       "976    False\n",
       "977    False\n",
       "978     True\n",
       "979    False\n",
       "980     True\n",
       "981     True\n",
       "982    False\n",
       "983    False\n",
       "984     True\n",
       "985    False\n",
       "986     True\n",
       "987     True\n",
       "988     True\n",
       "989     True\n",
       "990    False\n",
       "991     True\n",
       "992    False\n",
       "993    False\n",
       "994    False\n",
       "995     True\n",
       "996    False\n",
       "997    False\n",
       "998    False\n",
       "999     True\n",
       "Name: distance, Length: 1000, dtype: bool"
      ]
     },
     "execution_count": 8,
     "metadata": {},
     "output_type": "execute_result"
    }
   ],
   "source": [
    "df['distance']<4000"
   ]
  },
  {
   "cell_type": "code",
   "execution_count": 9,
   "metadata": {},
   "outputs": [
    {
     "data": {
      "text/plain": [
       "numpy.float64"
      ]
     },
     "execution_count": 9,
     "metadata": {},
     "output_type": "execute_result"
    }
   ],
   "source": [
    "type(df['distance'][0])"
   ]
  },
  {
   "cell_type": "code",
   "execution_count": 10,
   "metadata": {},
   "outputs": [
    {
     "data": {
      "text/html": [
       "<div>\n",
       "<style scoped>\n",
       "    .dataframe tbody tr th:only-of-type {\n",
       "        vertical-align: middle;\n",
       "    }\n",
       "\n",
       "    .dataframe tbody tr th {\n",
       "        vertical-align: top;\n",
       "    }\n",
       "\n",
       "    .dataframe thead th {\n",
       "        text-align: right;\n",
       "    }\n",
       "</style>\n",
       "<table border=\"1\" class=\"dataframe\">\n",
       "  <thead>\n",
       "    <tr style=\"text-align: right;\">\n",
       "      <th></th>\n",
       "      <th>alias</th>\n",
       "      <th>categories</th>\n",
       "      <th>coordinates</th>\n",
       "      <th>display_phone</th>\n",
       "      <th>distance</th>\n",
       "      <th>id</th>\n",
       "      <th>image_url</th>\n",
       "      <th>is_closed</th>\n",
       "      <th>location</th>\n",
       "      <th>name</th>\n",
       "      <th>phone</th>\n",
       "      <th>price</th>\n",
       "      <th>rating</th>\n",
       "      <th>review_count</th>\n",
       "      <th>transactions</th>\n",
       "      <th>url</th>\n",
       "    </tr>\n",
       "  </thead>\n",
       "  <tbody>\n",
       "    <tr>\n",
       "      <th>0</th>\n",
       "      <td>good-move-brooklyn</td>\n",
       "      <td>[{'alias': 'cocktailbars', 'title': 'Cocktail ...</td>\n",
       "      <td>{'latitude': 40.7253043200226, 'longitude': -7...</td>\n",
       "      <td>(718) 383-6038</td>\n",
       "      <td>432.134325</td>\n",
       "      <td>HrrJ1OdstzLJCC5JQrHWGA</td>\n",
       "      <td>https://s3-media4.fl.yelpcdn.com/bphoto/AGtNMt...</td>\n",
       "      <td>False</td>\n",
       "      <td>{'address1': '167 Nassau Ave', 'address2': '',...</td>\n",
       "      <td>Good Move</td>\n",
       "      <td>+17183836038</td>\n",
       "      <td>$$</td>\n",
       "      <td>4.0</td>\n",
       "      <td>30</td>\n",
       "      <td>[delivery, pickup]</td>\n",
       "      <td>https://www.yelp.com/biz/good-move-brooklyn?ad...</td>\n",
       "    </tr>\n",
       "    <tr>\n",
       "      <th>1</th>\n",
       "      <td>oxomoco-brooklyn-2</td>\n",
       "      <td>[{'alias': 'mexican', 'title': 'Mexican'}]</td>\n",
       "      <td>{'latitude': 40.7299099, 'longitude': -73.95548}</td>\n",
       "      <td>(646) 688-4180</td>\n",
       "      <td>797.751920</td>\n",
       "      <td>vyKBwzRdNX4yiJDIFv37iw</td>\n",
       "      <td>https://s3-media1.fl.yelpcdn.com/bphoto/F2A0uM...</td>\n",
       "      <td>False</td>\n",
       "      <td>{'address1': '128 Greenpoint Ave', 'address2':...</td>\n",
       "      <td>Oxomoco</td>\n",
       "      <td>+16466884180</td>\n",
       "      <td>$$$</td>\n",
       "      <td>4.0</td>\n",
       "      <td>246</td>\n",
       "      <td>[]</td>\n",
       "      <td>https://www.yelp.com/biz/oxomoco-brooklyn-2?ad...</td>\n",
       "    </tr>\n",
       "    <tr>\n",
       "      <th>5</th>\n",
       "      <td>friducha-brooklyn</td>\n",
       "      <td>[{'alias': 'mexican', 'title': 'Mexican'}, {'a...</td>\n",
       "      <td>{'latitude': 40.73152, 'longitude': -73.95432}</td>\n",
       "      <td>(718) 383-0026</td>\n",
       "      <td>733.724712</td>\n",
       "      <td>l0ZOGV9tohkpfHiZ-3XSRg</td>\n",
       "      <td>https://s3-media3.fl.yelpcdn.com/bphoto/t9WRQF...</td>\n",
       "      <td>False</td>\n",
       "      <td>{'address1': '946 Manhattan Ave', 'address2': ...</td>\n",
       "      <td>Friducha</td>\n",
       "      <td>+17183830026</td>\n",
       "      <td>$$</td>\n",
       "      <td>4.0</td>\n",
       "      <td>70</td>\n",
       "      <td>[delivery, pickup]</td>\n",
       "      <td>https://www.yelp.com/biz/friducha-brooklyn?adj...</td>\n",
       "    </tr>\n",
       "    <tr>\n",
       "      <th>6</th>\n",
       "      <td>jimbo-slims-brooklyn</td>\n",
       "      <td>[{'alias': 'cocktailbars', 'title': 'Cocktail ...</td>\n",
       "      <td>{'latitude': 40.7209450363619, 'longitude': -7...</td>\n",
       "      <td>(917) 909-1057</td>\n",
       "      <td>915.917372</td>\n",
       "      <td>cOUYYcrOeManYPyuun_xVg</td>\n",
       "      <td>https://s3-media3.fl.yelpcdn.com/bphoto/05BSfd...</td>\n",
       "      <td>False</td>\n",
       "      <td>{'address1': '524 Graham Ave', 'address2': '',...</td>\n",
       "      <td>Jimbo Slims</td>\n",
       "      <td>+19179091057</td>\n",
       "      <td>NaN</td>\n",
       "      <td>5.0</td>\n",
       "      <td>34</td>\n",
       "      <td>[]</td>\n",
       "      <td>https://www.yelp.com/biz/jimbo-slims-brooklyn?...</td>\n",
       "    </tr>\n",
       "    <tr>\n",
       "      <th>73</th>\n",
       "      <td>the-royal-brooklyn-brooklyn-2</td>\n",
       "      <td>[{'alias': 'sportsbars', 'title': 'Sports Bars...</td>\n",
       "      <td>{'latitude': 40.734047, 'longitude': -73.955227}</td>\n",
       "      <td>(718) 349-0022</td>\n",
       "      <td>935.063033</td>\n",
       "      <td>Mb0gJe5qmNov4rzJwx3bew</td>\n",
       "      <td>https://s3-media3.fl.yelpcdn.com/bphoto/f8taey...</td>\n",
       "      <td>False</td>\n",
       "      <td>{'address1': '1025 Manhattan Ave', 'address2':...</td>\n",
       "      <td>The Royal Brooklyn</td>\n",
       "      <td>+17183490022</td>\n",
       "      <td>NaN</td>\n",
       "      <td>5.0</td>\n",
       "      <td>5</td>\n",
       "      <td>[pickup, delivery]</td>\n",
       "      <td>https://www.yelp.com/biz/the-royal-brooklyn-br...</td>\n",
       "    </tr>\n",
       "  </tbody>\n",
       "</table>\n",
       "</div>"
      ],
      "text/plain": [
       "                            alias  \\\n",
       "0              good-move-brooklyn   \n",
       "1              oxomoco-brooklyn-2   \n",
       "5               friducha-brooklyn   \n",
       "6            jimbo-slims-brooklyn   \n",
       "73  the-royal-brooklyn-brooklyn-2   \n",
       "\n",
       "                                           categories  \\\n",
       "0   [{'alias': 'cocktailbars', 'title': 'Cocktail ...   \n",
       "1          [{'alias': 'mexican', 'title': 'Mexican'}]   \n",
       "5   [{'alias': 'mexican', 'title': 'Mexican'}, {'a...   \n",
       "6   [{'alias': 'cocktailbars', 'title': 'Cocktail ...   \n",
       "73  [{'alias': 'sportsbars', 'title': 'Sports Bars...   \n",
       "\n",
       "                                          coordinates   display_phone  \\\n",
       "0   {'latitude': 40.7253043200226, 'longitude': -7...  (718) 383-6038   \n",
       "1    {'latitude': 40.7299099, 'longitude': -73.95548}  (646) 688-4180   \n",
       "5      {'latitude': 40.73152, 'longitude': -73.95432}  (718) 383-0026   \n",
       "6   {'latitude': 40.7209450363619, 'longitude': -7...  (917) 909-1057   \n",
       "73   {'latitude': 40.734047, 'longitude': -73.955227}  (718) 349-0022   \n",
       "\n",
       "      distance                      id  \\\n",
       "0   432.134325  HrrJ1OdstzLJCC5JQrHWGA   \n",
       "1   797.751920  vyKBwzRdNX4yiJDIFv37iw   \n",
       "5   733.724712  l0ZOGV9tohkpfHiZ-3XSRg   \n",
       "6   915.917372  cOUYYcrOeManYPyuun_xVg   \n",
       "73  935.063033  Mb0gJe5qmNov4rzJwx3bew   \n",
       "\n",
       "                                            image_url  is_closed  \\\n",
       "0   https://s3-media4.fl.yelpcdn.com/bphoto/AGtNMt...      False   \n",
       "1   https://s3-media1.fl.yelpcdn.com/bphoto/F2A0uM...      False   \n",
       "5   https://s3-media3.fl.yelpcdn.com/bphoto/t9WRQF...      False   \n",
       "6   https://s3-media3.fl.yelpcdn.com/bphoto/05BSfd...      False   \n",
       "73  https://s3-media3.fl.yelpcdn.com/bphoto/f8taey...      False   \n",
       "\n",
       "                                             location                name  \\\n",
       "0   {'address1': '167 Nassau Ave', 'address2': '',...           Good Move   \n",
       "1   {'address1': '128 Greenpoint Ave', 'address2':...             Oxomoco   \n",
       "5   {'address1': '946 Manhattan Ave', 'address2': ...            Friducha   \n",
       "6   {'address1': '524 Graham Ave', 'address2': '',...         Jimbo Slims   \n",
       "73  {'address1': '1025 Manhattan Ave', 'address2':...  The Royal Brooklyn   \n",
       "\n",
       "           phone price  rating  review_count        transactions  \\\n",
       "0   +17183836038    $$     4.0            30  [delivery, pickup]   \n",
       "1   +16466884180   $$$     4.0           246                  []   \n",
       "5   +17183830026    $$     4.0            70  [delivery, pickup]   \n",
       "6   +19179091057   NaN     5.0            34                  []   \n",
       "73  +17183490022   NaN     5.0             5  [pickup, delivery]   \n",
       "\n",
       "                                                  url  \n",
       "0   https://www.yelp.com/biz/good-move-brooklyn?ad...  \n",
       "1   https://www.yelp.com/biz/oxomoco-brooklyn-2?ad...  \n",
       "5   https://www.yelp.com/biz/friducha-brooklyn?adj...  \n",
       "6   https://www.yelp.com/biz/jimbo-slims-brooklyn?...  \n",
       "73  https://www.yelp.com/biz/the-royal-brooklyn-br...  "
      ]
     },
     "execution_count": 10,
     "metadata": {},
     "output_type": "execute_result"
    }
   ],
   "source": [
    "close_tacos = df[(df['distance']<1000) & (df['rating']>=4)]\n",
    "close_tacos.head()"
   ]
  },
  {
   "cell_type": "code",
   "execution_count": 11,
   "metadata": {
    "scrolled": true
   },
   "outputs": [
    {
     "name": "stderr",
     "output_type": "stream",
     "text": [
      "/anaconda3/envs/learn-env/lib/python3.6/site-packages/pandas/core/generic.py:4405: SettingWithCopyWarning: \n",
      "A value is trying to be set on a copy of a slice from a DataFrame.\n",
      "Try using .loc[row_indexer,col_indexer] = value instead\n",
      "\n",
      "See the caveats in the documentation: http://pandas.pydata.org/pandas-docs/stable/indexing.html#indexing-view-versus-copy\n",
      "  self[name] = value\n"
     ]
    },
    {
     "data": {
      "text/plain": [
       "array([[<matplotlib.axes._subplots.AxesSubplot object at 0x11aa175c0>,\n",
       "        <matplotlib.axes._subplots.AxesSubplot object at 0x11acbab70>,\n",
       "        <matplotlib.axes._subplots.AxesSubplot object at 0x11acee128>],\n",
       "       [<matplotlib.axes._subplots.AxesSubplot object at 0x11ad166a0>,\n",
       "        <matplotlib.axes._subplots.AxesSubplot object at 0x11ad3cc18>,\n",
       "        <matplotlib.axes._subplots.AxesSubplot object at 0x11ad6d1d0>],\n",
       "       [<matplotlib.axes._subplots.AxesSubplot object at 0x11ad96748>,\n",
       "        <matplotlib.axes._subplots.AxesSubplot object at 0x11adbccf8>,\n",
       "        <matplotlib.axes._subplots.AxesSubplot object at 0x11adbcd30>]],\n",
       "      dtype=object)"
      ]
     },
     "execution_count": 11,
     "metadata": {},
     "output_type": "execute_result"
    },
    {
     "data": {
      "image/png": "[encoded data removed]",
      "text/plain": [
       "<Figure size 432x288 with 9 Axes>"
      ]
     },
     "metadata": {
      "needs_background": "light"
     },
     "output_type": "display_data"
    }
   ],
   "source": [
    "# Your code here\n",
    "import matplotlib.pyplot as plt\n",
    "%matplotlib inline\n",
    "\n",
    "close_tacos.price = df.price.fillna(value=0)\n",
    "price_dict = {\"$\": 1, \"$$\":2, \"$$$\": 3, \"$$$$\":4}\n",
    "close_tacos.price = df.price.map(price_dict)\n",
    "\n",
    "pd.plotting.scatter_matrix(close_tacos[['price', 'rating', 'review_count']])"
   ]
  },
  {
   "cell_type": "code",
   "execution_count": 12,
   "metadata": {
    "scrolled": true
   },
   "outputs": [
    {
     "data": {
      "image/png": "[encoded data removed]",
      "text/plain": [
       "<Figure size 432x288 with 2 Axes>"
      ]
     },
     "metadata": {
      "needs_background": "light"
     },
     "output_type": "display_data"
    }
   ],
   "source": [
    "import seaborn as sns\n",
    "sns.heatmap(close_tacos[['price', 'rating', 'review_count']].corr(), center=0);"
   ]
  },
  {
   "cell_type": "markdown",
   "metadata": {},
   "source": [
    "## Mapping\n",
    "\n",
    "Look at the initial Yelp example and try and make a map using Folium of the restaurants you retrieved. Be sure to also add popups to the markers giving some basic information such as name, rating and price."
   ]
  },
  {
   "cell_type": "code",
   "execution_count": 13,
   "metadata": {
    "scrolled": true
   },
   "outputs": [
    {
     "data": {
      "text/html": [
       "<div>\n",
       "<style scoped>\n",
       "    .dataframe tbody tr th:only-of-type {\n",
       "        vertical-align: middle;\n",
       "    }\n",
       "\n",
       "    .dataframe tbody tr th {\n",
       "        vertical-align: top;\n",
       "    }\n",
       "\n",
       "    .dataframe thead th {\n",
       "        text-align: right;\n",
       "    }\n",
       "</style>\n",
       "<table border=\"1\" class=\"dataframe\">\n",
       "  <thead>\n",
       "    <tr style=\"text-align: right;\">\n",
       "      <th></th>\n",
       "      <th>alias</th>\n",
       "      <th>categories</th>\n",
       "      <th>coordinates</th>\n",
       "      <th>display_phone</th>\n",
       "      <th>distance</th>\n",
       "      <th>id</th>\n",
       "      <th>image_url</th>\n",
       "      <th>is_closed</th>\n",
       "      <th>location</th>\n",
       "      <th>name</th>\n",
       "      <th>phone</th>\n",
       "      <th>price</th>\n",
       "      <th>rating</th>\n",
       "      <th>review_count</th>\n",
       "      <th>transactions</th>\n",
       "      <th>url</th>\n",
       "    </tr>\n",
       "  </thead>\n",
       "  <tbody>\n",
       "    <tr>\n",
       "      <th>0</th>\n",
       "      <td>good-move-brooklyn</td>\n",
       "      <td>[{'alias': 'cocktailbars', 'title': 'Cocktail ...</td>\n",
       "      <td>{'latitude': 40.7253043200226, 'longitude': -7...</td>\n",
       "      <td>(718) 383-6038</td>\n",
       "      <td>432.134325</td>\n",
       "      <td>HrrJ1OdstzLJCC5JQrHWGA</td>\n",
       "      <td>https://s3-media4.fl.yelpcdn.com/bphoto/AGtNMt...</td>\n",
       "      <td>False</td>\n",
       "      <td>{'address1': '167 Nassau Ave', 'address2': '',...</td>\n",
       "      <td>Good Move</td>\n",
       "      <td>+17183836038</td>\n",
       "      <td>2.0</td>\n",
       "      <td>4.0</td>\n",
       "      <td>30</td>\n",
       "      <td>[delivery, pickup]</td>\n",
       "      <td>https://www.yelp.com/biz/good-move-brooklyn?ad...</td>\n",
       "    </tr>\n",
       "    <tr>\n",
       "      <th>1</th>\n",
       "      <td>oxomoco-brooklyn-2</td>\n",
       "      <td>[{'alias': 'mexican', 'title': 'Mexican'}]</td>\n",
       "      <td>{'latitude': 40.7299099, 'longitude': -73.95548}</td>\n",
       "      <td>(646) 688-4180</td>\n",
       "      <td>797.751920</td>\n",
       "      <td>vyKBwzRdNX4yiJDIFv37iw</td>\n",
       "      <td>https://s3-media1.fl.yelpcdn.com/bphoto/F2A0uM...</td>\n",
       "      <td>False</td>\n",
       "      <td>{'address1': '128 Greenpoint Ave', 'address2':...</td>\n",
       "      <td>Oxomoco</td>\n",
       "      <td>+16466884180</td>\n",
       "      <td>3.0</td>\n",
       "      <td>4.0</td>\n",
       "      <td>246</td>\n",
       "      <td>[]</td>\n",
       "      <td>https://www.yelp.com/biz/oxomoco-brooklyn-2?ad...</td>\n",
       "    </tr>\n",
       "    <tr>\n",
       "      <th>5</th>\n",
       "      <td>friducha-brooklyn</td>\n",
       "      <td>[{'alias': 'mexican', 'title': 'Mexican'}, {'a...</td>\n",
       "      <td>{'latitude': 40.73152, 'longitude': -73.95432}</td>\n",
       "      <td>(718) 383-0026</td>\n",
       "      <td>733.724712</td>\n",
       "      <td>l0ZOGV9tohkpfHiZ-3XSRg</td>\n",
       "      <td>https://s3-media3.fl.yelpcdn.com/bphoto/t9WRQF...</td>\n",
       "      <td>False</td>\n",
       "      <td>{'address1': '946 Manhattan Ave', 'address2': ...</td>\n",
       "      <td>Friducha</td>\n",
       "      <td>+17183830026</td>\n",
       "      <td>2.0</td>\n",
       "      <td>4.0</td>\n",
       "      <td>70</td>\n",
       "      <td>[delivery, pickup]</td>\n",
       "      <td>https://www.yelp.com/biz/friducha-brooklyn?adj...</td>\n",
       "    </tr>\n",
       "    <tr>\n",
       "      <th>6</th>\n",
       "      <td>jimbo-slims-brooklyn</td>\n",
       "      <td>[{'alias': 'cocktailbars', 'title': 'Cocktail ...</td>\n",
       "      <td>{'latitude': 40.7209450363619, 'longitude': -7...</td>\n",
       "      <td>(917) 909-1057</td>\n",
       "      <td>915.917372</td>\n",
       "      <td>cOUYYcrOeManYPyuun_xVg</td>\n",
       "      <td>https://s3-media3.fl.yelpcdn.com/bphoto/05BSfd...</td>\n",
       "      <td>False</td>\n",
       "      <td>{'address1': '524 Graham Ave', 'address2': '',...</td>\n",
       "      <td>Jimbo Slims</td>\n",
       "      <td>+19179091057</td>\n",
       "      <td>NaN</td>\n",
       "      <td>5.0</td>\n",
       "      <td>34</td>\n",
       "      <td>[]</td>\n",
       "      <td>https://www.yelp.com/biz/jimbo-slims-brooklyn?...</td>\n",
       "    </tr>\n",
       "    <tr>\n",
       "      <th>73</th>\n",
       "      <td>the-royal-brooklyn-brooklyn-2</td>\n",
       "      <td>[{'alias': 'sportsbars', 'title': 'Sports Bars...</td>\n",
       "      <td>{'latitude': 40.734047, 'longitude': -73.955227}</td>\n",
       "      <td>(718) 349-0022</td>\n",
       "      <td>935.063033</td>\n",
       "      <td>Mb0gJe5qmNov4rzJwx3bew</td>\n",
       "      <td>https://s3-media3.fl.yelpcdn.com/bphoto/f8taey...</td>\n",
       "      <td>False</td>\n",
       "      <td>{'address1': '1025 Manhattan Ave', 'address2':...</td>\n",
       "      <td>The Royal Brooklyn</td>\n",
       "      <td>+17183490022</td>\n",
       "      <td>NaN</td>\n",
       "      <td>5.0</td>\n",
       "      <td>5</td>\n",
       "      <td>[pickup, delivery]</td>\n",
       "      <td>https://www.yelp.com/biz/the-royal-brooklyn-br...</td>\n",
       "    </tr>\n",
       "  </tbody>\n",
       "</table>\n",
       "</div>"
      ],
      "text/plain": [
       "                            alias  \\\n",
       "0              good-move-brooklyn   \n",
       "1              oxomoco-brooklyn-2   \n",
       "5               friducha-brooklyn   \n",
       "6            jimbo-slims-brooklyn   \n",
       "73  the-royal-brooklyn-brooklyn-2   \n",
       "\n",
       "                                           categories  \\\n",
       "0   [{'alias': 'cocktailbars', 'title': 'Cocktail ...   \n",
       "1          [{'alias': 'mexican', 'title': 'Mexican'}]   \n",
       "5   [{'alias': 'mexican', 'title': 'Mexican'}, {'a...   \n",
       "6   [{'alias': 'cocktailbars', 'title': 'Cocktail ...   \n",
       "73  [{'alias': 'sportsbars', 'title': 'Sports Bars...   \n",
       "\n",
       "                                          coordinates   display_phone  \\\n",
       "0   {'latitude': 40.7253043200226, 'longitude': -7...  (718) 383-6038   \n",
       "1    {'latitude': 40.7299099, 'longitude': -73.95548}  (646) 688-4180   \n",
       "5      {'latitude': 40.73152, 'longitude': -73.95432}  (718) 383-0026   \n",
       "6   {'latitude': 40.7209450363619, 'longitude': -7...  (917) 909-1057   \n",
       "73   {'latitude': 40.734047, 'longitude': -73.955227}  (718) 349-0022   \n",
       "\n",
       "      distance                      id  \\\n",
       "0   432.134325  HrrJ1OdstzLJCC5JQrHWGA   \n",
       "1   797.751920  vyKBwzRdNX4yiJDIFv37iw   \n",
       "5   733.724712  l0ZOGV9tohkpfHiZ-3XSRg   \n",
       "6   915.917372  cOUYYcrOeManYPyuun_xVg   \n",
       "73  935.063033  Mb0gJe5qmNov4rzJwx3bew   \n",
       "\n",
       "                                            image_url  is_closed  \\\n",
       "0   https://s3-media4.fl.yelpcdn.com/bphoto/AGtNMt...      False   \n",
       "1   https://s3-media1.fl.yelpcdn.com/bphoto/F2A0uM...      False   \n",
       "5   https://s3-media3.fl.yelpcdn.com/bphoto/t9WRQF...      False   \n",
       "6   https://s3-media3.fl.yelpcdn.com/bphoto/05BSfd...      False   \n",
       "73  https://s3-media3.fl.yelpcdn.com/bphoto/f8taey...      False   \n",
       "\n",
       "                                             location                name  \\\n",
       "0   {'address1': '167 Nassau Ave', 'address2': '',...           Good Move   \n",
       "1   {'address1': '128 Greenpoint Ave', 'address2':...             Oxomoco   \n",
       "5   {'address1': '946 Manhattan Ave', 'address2': ...            Friducha   \n",
       "6   {'address1': '524 Graham Ave', 'address2': '',...         Jimbo Slims   \n",
       "73  {'address1': '1025 Manhattan Ave', 'address2':...  The Royal Brooklyn   \n",
       "\n",
       "           phone  price  rating  review_count        transactions  \\\n",
       "0   +17183836038    2.0     4.0            30  [delivery, pickup]   \n",
       "1   +16466884180    3.0     4.0           246                  []   \n",
       "5   +17183830026    2.0     4.0            70  [delivery, pickup]   \n",
       "6   +19179091057    NaN     5.0            34                  []   \n",
       "73  +17183490022    NaN     5.0             5  [pickup, delivery]   \n",
       "\n",
       "                                                  url  \n",
       "0   https://www.yelp.com/biz/good-move-brooklyn?ad...  \n",
       "1   https://www.yelp.com/biz/oxomoco-brooklyn-2?ad...  \n",
       "5   https://www.yelp.com/biz/friducha-brooklyn?adj...  \n",
       "6   https://www.yelp.com/biz/jimbo-slims-brooklyn?...  \n",
       "73  https://www.yelp.com/biz/the-royal-brooklyn-br...  "
      ]
     },
     "execution_count": 13,
     "metadata": {},
     "output_type": "execute_result"
    }
   ],
   "source": [
    "# Your code here\n",
    "close_tacos.head()"
   ]
  },
  {
   "cell_type": "code",
   "execution_count": 14,
   "metadata": {},
   "outputs": [
    {
     "data": {
      "text/plain": [
       "18"
      ]
     },
     "execution_count": 14,
     "metadata": {},
     "output_type": "execute_result"
    }
   ],
   "source": [
    "len(close_tacos)"
   ]
  },
  {
   "cell_type": "code",
   "execution_count": 15,
   "metadata": {},
   "outputs": [
    {
     "data": {
      "text/plain": [
       "{'latitude': 40.7253043200226, 'longitude': -73.9465199000016}"
      ]
     },
     "execution_count": 15,
     "metadata": {},
     "output_type": "execute_result"
    }
   ],
   "source": [
    "close_tacos['coordinates'][0]"
   ]
  },
  {
   "cell_type": "code",
   "execution_count": 16,
   "metadata": {},
   "outputs": [],
   "source": [
    "lat_long = close_tacos['coordinates'].iloc[0]"
   ]
  },
  {
   "cell_type": "code",
   "execution_count": 17,
   "metadata": {},
   "outputs": [
    {
     "data": {
      "text/plain": [
       "{'latitude': 40.7253043200226, 'longitude': -73.9465199000016}"
      ]
     },
     "execution_count": 17,
     "metadata": {},
     "output_type": "execute_result"
    }
   ],
   "source": [
    "lat_long"
   ]
  },
  {
   "cell_type": "code",
   "execution_count": 18,
   "metadata": {
    "scrolled": true
   },
   "outputs": [],
   "source": [
    "lat_long['latitude']\n",
    "lat = ['latitude']\n",
    "long = ['longitude']"
   ]
  },
  {
   "cell_type": "code",
   "execution_count": 21,
   "metadata": {},
   "outputs": [],
   "source": [
    "import sys\n",
    "sys.setrecursionlimit(50000)"
   ]
  },
  {
   "cell_type": "code",
   "execution_count": 26,
   "metadata": {
    "scrolled": true
   },
   "outputs": [
    {
     "data": {
      "text/html": [
       "<div style=\"width:100%;\"><div style=\"position:relative;width:100%;height:0;padding-bottom:60%;\"><iframe src=\"data:text/html;charset=utf-8;base64,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\" style=\"position:absolute;width:100%;height:100%;left:0;top:0;border:none !important;\" allowfullscreen webkitallowfullscreen mozallowfullscreen></iframe></div></div>"
      ],
      "text/plain": [
       "<folium.folium.Map at 0x1a1d9920b8>"
      ]
     },
     "execution_count": 26,
     "metadata": {},
     "output_type": "execute_result"
    }
   ],
   "source": [
    "import folium\n",
    "\n",
    "lat_long = close_tacos['coordinates'].iloc[0]\n",
    "lat = lat_long['latitude']\n",
    "long = lat_long['longitude']\n",
    "base_map = folium.Map([lat, long])\n",
    "\n",
    "\n",
    "for i in close_tacos.index:\n",
    "    try:\n",
    "        lat_long = close_tacos['coordinates'][i]\n",
    "        lat = lat_long['latitude']\n",
    "        long = lat_long['longitude']\n",
    "        name = close_tacos['name'][i]\n",
    "        rating = close_tacos['rating'][i]\n",
    "        price = close_tacos['price'][i]\n",
    "        details = \"{}\\nPrice: {} Rating:{}\".format(name,str(price),str(rating))\n",
    "        popup = folium.Popup(details, parse_html=True)\n",
    "        marker = folium.Marker([lat, long], popup=popup)\n",
    "        marker.add_to(base_map)\n",
    "    except:\n",
    "        print('Hit error on row: {}'.format(i))\n",
    "base_map\n",
    "  "
   ]
  },
  {
   "cell_type": "markdown",
   "metadata": {},
   "source": [
    "## Summary\n",
    "\n",
    "Nice work! In this lab, you synthesized your skills for the day, making multiple API calls to Yelp in order to paginate through a results set, performing some basic exploratory analysis and then creating a nice map visual to display the results! Well done!"
   ]
  }
 ],
 "metadata": {
  "kernelspec": {
   "display_name": "Python 3",
   "language": "python",
   "name": "python3"
  },
  "language_info": {
   "codemirror_mode": {
    "name": "ipython",
    "version": 3
   },
   "file_extension": ".py",
   "mimetype": "text/x-python",
   "name": "python",
   "nbconvert_exporter": "python",
   "pygments_lexer": "ipython3",
   "version": "3.6.6"
  }
 },
 "nbformat": 4,
 "nbformat_minor": 2
}
